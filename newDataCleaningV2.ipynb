{
 "cells": [
  {
   "cell_type": "markdown",
   "metadata": {},
   "source": [
    "This is finding the correlation between Diabetes and the rest of the columns in 2015.csv"
   ]
  },
  {
   "cell_type": "code",
   "execution_count": 1,
   "metadata": {},
   "outputs": [],
   "source": [
    "import pandas as pd\n",
    "\n",
    "# Load data\n",
    "df = pd.read_csv('2015.csv')\n",
    "\n",
    "df_numeric = df.select_dtypes(include=['number'])\n",
    "\n",
    "# Calculate correlation matrix\n",
    "correlation_matrix = df_numeric.corr()\n",
    "\n",
    "# Extract correlation of each feature with the target variable (Has_Diabetes)\n",
    "correlation_with_target = correlation_matrix['DIABETE3'].sort_values(ascending=False)\n",
    "pd.set_option('display.max_rows', None)  # Set option to display all rows\n",
    "\n",
    "print(correlation_with_target)"
   ]
  },
  {
   "cell_type": "code",
   "execution_count": null,
   "metadata": {},
   "outputs": [],
   "source": [
    "import pandas as pd\n",
    "import numpy as np\n",
    "\n",
    "# Read the CSV file\n",
    "df = pd.read_csv('2015.csv')"
   ]
  },
  {
   "cell_type": "code",
   "execution_count": null,
   "metadata": {},
   "outputs": [],
   "source": []
  },
  {
   "cell_type": "code",
   "execution_count": null,
   "metadata": {},
   "outputs": [],
   "source": [
    "columns_tokeep = ['DIABETE3', 'BPHIGH4', 'CVDASPRN', '_MICHD', '_DRDXAR1', 'HAVARTH3', 'DIFFWALK',\n",
    "                  'TOLDHI2', 'DRADVISE', 'USEEQUIP', 'ARTHWGT', 'CDASSIST', 'BPMEDS',\n",
    "                  'VICTRCT4', 'PNEUVAC3', '_BMI5', 'PHYSHLTH', '_AGEG5YR','GENHLTH']\n",
    "\n",
    "clean_columns = df[columns_tokeep]\n",
    "\n",
    "\n",
    "\n",
    "clean_columns['CVDASPRN'] = clean_columns['CVDASPRN'].fillna(2.0)\n",
    "clean_columns['DRADVISE'] = clean_columns['DRADVISE'].fillna(2.0)\n",
    "clean_columns['ARTHWGT'] = clean_columns['ARTHWGT'].fillna(2.0)\n",
    "clean_columns['CDASSIST'] = clean_columns['CDASSIST'].fillna(5.0)\n",
    "clean_columns['VICTRCT4'] = clean_columns['VICTRCT4'].fillna(3.0)\n",
    "clean_columns['BPMEDS'] = clean_columns['BPMEDS'].fillna(2.0)"
   ]
  },
  {
   "cell_type": "code",
   "execution_count": null,
   "metadata": {},
   "outputs": [],
   "source": [
    "NO=clean_columns.loc[clean_columns['DIABETE3'] == 1]\n",
    "\n",
    "NO.shape"
   ]
  },
  {
   "cell_type": "code",
   "execution_count": null,
   "metadata": {},
   "outputs": [],
   "source": [
    "column_mapping = {\n",
    "    'DIABETE3': 'Has_Diabetes',\n",
    "    'BPHIGH4': 'Has_High_BP',\n",
    "    'CVDASPRN': 'Takes_Aspirin_Daily',\n",
    "    '_MICHD': 'Has_Heart_Disease',\n",
    "    '_DRDXAR1': 'Has_Arthritis',\n",
    "    'HAVARTH3': 'Has_Arthritis_(Any_Form)',\n",
    "    'DIFFWALK': 'Has_Difficulty_Walking',\n",
    "    'TOLDHI2': 'Told_High_Blood_Chol',\n",
    "    'DRADVISE': 'Advised_to_Reduce_Salt',\n",
    "    'USEEQUIP': 'Needs_Medical_Equipment',\n",
    "    'ARTHWGT': 'Told_to_Lose_Weight',\n",
    "    'VICTRCT4': 'Has_Cataracts',\n",
    "    'CDASSIST': 'Needs_Daily_Assistance_(Memory Loss)',\n",
    "    'BPMEDS': 'Taking_Meds_for_BP',\n",
    "    'PNEUVAC3': 'Had_Pneumonia_Shot',\n",
    "    '_BMI5'  : 'BMI',\n",
    "    'PHYSHLTH'  : 'Physical_Health',\n",
    "    '_AGEG5YR'  : 'Age',\n",
    "    'GENHLTH'  : 'General_Health'\n",
    "}\n",
    "\n",
    "clean_columns = clean_columns.rename(columns=column_mapping)\n",
    "\n",
    "clean_columns.head()"
   ]
  },
  {
   "cell_type": "code",
   "execution_count": null,
   "metadata": {},
   "outputs": [],
   "source": [
    "clean_columns.head()"
   ]
  },
  {
   "cell_type": "code",
   "execution_count": null,
   "metadata": {},
   "outputs": [],
   "source": [
    "numeric_columns= pd.DataFrame()\n",
    "\n",
    "numeric_columns['BMI'] = clean_columns.pop('BMI')\n",
    "numeric_columns['Physical_Health'] = clean_columns.pop('Physical_Health')\n",
    "numeric_columns['Age'] = clean_columns.pop('Age')\n",
    "numeric_columns['General_Health'] = clean_columns.pop('General_Health')\n",
    "\n",
    "numeric_columns = (numeric_columns - np.min(numeric_columns)) / (np.max(numeric_columns) - np.min(numeric_columns))\n",
    "numeric_columns.head()\n",
    "\n",
    "\n"
   ]
  },
  {
   "cell_type": "code",
   "execution_count": null,
   "metadata": {},
   "outputs": [],
   "source": [
    "clean_columns.head()"
   ]
  },
  {
   "cell_type": "code",
   "execution_count": null,
   "metadata": {},
   "outputs": [],
   "source": []
  },
  {
   "cell_type": "code",
   "execution_count": null,
   "metadata": {},
   "outputs": [],
   "source": []
  },
  {
   "cell_type": "code",
   "execution_count": null,
   "metadata": {},
   "outputs": [],
   "source": [
    "\n",
    "clean_columns = clean_columns.replace(7,float('nan'))\n",
    "\n",
    "clean_columns['Needs_Daily_Assistance_(Memory Loss)'] = clean_columns['Needs_Daily_Assistance_(Memory Loss)'].replace({1:True, 2: True, 3: True, 4: False, 5:False})\n",
    "\n",
    "clean_columns = clean_columns.replace({1:True, 2:False, 3:False, 4:False})"
   ]
  },
  {
   "cell_type": "code",
   "execution_count": null,
   "metadata": {},
   "outputs": [],
   "source": [
    "clean_columns = clean_columns.dropna()\n",
    "\n",
    "\n",
    "clean_columns['Has_Diabetes'] = clean_columns['Has_Diabetes'].astype(bool)\n",
    "clean_columns['Has_High_BP'] = clean_columns['Has_High_BP'].astype(bool)\n",
    "clean_columns['Takes_Aspirin_Daily'] = clean_columns['Takes_Aspirin_Daily'].astype(bool)\n",
    "clean_columns['Has_Heart_Disease'] = clean_columns['Has_Heart_Disease'].astype(bool)\n",
    "clean_columns['Has_Arthritis'] = clean_columns['Has_Arthritis'].astype(bool)\n",
    "clean_columns['Has_Arthritis_(Any_Form)'] = clean_columns['Has_Arthritis_(Any_Form)'].astype(bool)\n",
    "clean_columns['Has_Difficulty_Walking'] = clean_columns['Has_Difficulty_Walking'].astype(bool)\n",
    "clean_columns['Told_High_Blood_Chol'] = clean_columns['Told_High_Blood_Chol'].astype(bool)\n",
    "clean_columns['Advised_to_Reduce_Salt'] = clean_columns['Advised_to_Reduce_Salt'].astype(bool)\n",
    "clean_columns['Needs_Medical_Equipment'] = clean_columns['Needs_Medical_Equipment'].astype(bool)\n",
    "clean_columns['Told_to_Lose_Weight'] = clean_columns['Told_to_Lose_Weight'].astype(bool)\n",
    "clean_columns['Has_Cataracts'] = clean_columns['Has_Cataracts'].astype(bool)\n",
    "clean_columns['Needs_Daily_Assistance_(Memory Loss)'] = clean_columns['Needs_Daily_Assistance_(Memory Loss)'].astype(bool)\n",
    "clean_columns['Taking_Meds_for_BP'] = clean_columns['Taking_Meds_for_BP'].astype(bool)\n",
    "clean_columns['Had_Pneumonia_Shot'] = clean_columns['Had_Pneumonia_Shot'].astype(bool)"
   ]
  },
  {
   "cell_type": "code",
   "execution_count": null,
   "metadata": {},
   "outputs": [],
   "source": []
  },
  {
   "cell_type": "code",
   "execution_count": null,
   "metadata": {},
   "outputs": [],
   "source": [
    "NO.shape"
   ]
  },
  {
   "cell_type": "code",
   "execution_count": null,
   "metadata": {},
   "outputs": [],
   "source": [
    "\n",
    "\n",
    "\n",
    "\"\"\"clean_columns['CVDASPRN'] = clean_columns['CVDASPRN'].replace(7, float('nan')) \n",
    "clean_columns['DRADVISE'] = clean_columns['DRADVISE'].replace(7, float('nan'))\n",
    "clean_columns['ARTHWGT'] = clean_columns['ARTHWGT'].replace(7, float('nan'))\n",
    "clean_columns['CDASSIST'] = clean_columns['CDASSIST'].replace(7, float('nan'))\n",
    "clean_columns['VICTRCT4'] = clean_columns['VICTRCT4'].replace(7, float('nan'))\n",
    "clean_columns['BPMEDS'] = clean_columns['BPMEDS'].replace(7, float('nan'))\"\"\"\n",
    "\n",
    "\n",
    "\n",
    "true_cases = clean_columns[clean_columns['Has_Diabetes'] == True]\n",
    "false_cases = clean_columns[clean_columns['Has_Diabetes'] == False].sample(n=true_cases.shape[0], random_state=42)\n",
    "balanced_df = pd.concat([true_cases, false_cases])\n",
    "\n",
    "\n",
    "\n",
    "#clean_columns.to_csv('new_columns.csv', index=False)\n",
    "#balanced_df.to_csv('balanced_new_columns.csv', index=False)\n",
    "\n"
   ]
  },
  {
   "cell_type": "code",
   "execution_count": null,
   "metadata": {},
   "outputs": [],
   "source": [
    "balanced_df.head()"
   ]
  },
  {
   "cell_type": "code",
   "execution_count": null,
   "metadata": {},
   "outputs": [],
   "source": [
    "clean_columns = pd.concat([clean_columns, numeric_columns], axis=1)\n",
    "clean_columns.head()"
   ]
  },
  {
   "cell_type": "code",
   "execution_count": null,
   "metadata": {},
   "outputs": [],
   "source": [
    "{i : 1 - (clean_columns[i].count() / len(clean_columns[i])) for i in clean_columns.columns}"
   ]
  },
  {
   "cell_type": "code",
   "execution_count": null,
   "metadata": {},
   "outputs": [],
   "source": [
    "clean_columns[\"ARTHWGT\"]"
   ]
  },
  {
   "cell_type": "code",
   "execution_count": null,
   "metadata": {},
   "outputs": [],
   "source": [
    "clean_nulls = clean_columns.dropna()\n",
    "clean_nulls"
   ]
  },
  {
   "cell_type": "code",
   "execution_count": null,
   "metadata": {},
   "outputs": [],
   "source": [
    "import pandas as pd\n",
    "from sklearn.model_selection import train_test_split\n",
    "from sklearn.linear_model import LogisticRegression\n",
    "from sklearn.preprocessing import StandardScaler\n",
    "from sklearn.metrics import confusion_matrix, classification_report, accuracy_score\n",
    "\n",
    "df = pd.read_csv('new_columns.csv')\n",
    "\n",
    "# Separate data into two dataframes based on 'Has_Diabetes'\n",
    "df_true = df[df['Has_Diabetes'] == True]\n",
    "df_false = df[df['Has_Diabetes'] == False]\n",
    "\n",
    "# Get the minimum number of rows between True and False dataframes\n",
    "min_rows = min(len(df_true), len(df_false))\n",
    "\n",
    "# Sample equal number of rows from both True and False dataframes\n",
    "df_true_sampled = df_true.sample(n=min_rows, random_state=42)\n",
    "df_false_sampled = df_false.sample(n=min_rows, random_state=42)\n",
    "\n",
    "# Concatenate the sampled dataframes\n",
    "balanced_df = pd.concat([df_true_sampled, df_false_sampled])\n",
    "\n",
    "# Shuffle the rows to mix True and False values\n",
    "balanced_df = balanced_df.sample(frac=1, random_state=42).reset_index(drop=True)\n",
    "\n",
    "# Save the balanced dataframe to a new CSV file\n",
    "balanced_df.to_csv('balanced_new_columns.csv', index=False)\n",
    "\n",
    "print(\"Balanced dataset saved to balanced_new_columns.csv\")"
   ]
  },
  {
   "cell_type": "code",
   "execution_count": null,
   "metadata": {},
   "outputs": [],
   "source": [
    "true_cases = df[df['Has_Diabetes'] == True]\n",
    "false_cases = df[df['Has_Diabetes'] == False].sample(n=true_cases.shape[0], random_state=42)\n",
    "\n",
    "balanced_df = pd.concat([true_cases, false_cases])\n",
    "\n",
    "print(balanced_df)"
   ]
  },
  {
   "cell_type": "code",
   "execution_count": null,
   "metadata": {},
   "outputs": [],
   "source": [
    "import pandas as pd\n",
    "\n",
    "\n",
    "# Select only the desired columns\n",
    "clean_columns = df[columns_tokeep]\n",
    "clean_columns\n",
    "# Drop rows with null values in any of the selected columns\n",
    "clean_nulls = clean_columns.dropna\n",
    "\n",
    "print(clean_nulls)\n",
    "# Define conditions to filter the DataFrame\n",
    "# Define conditions to filter the DataFrame\n",
    "conditions = [\n",
    "    clean_nulls['DIABETE3'].isin([1, 3]),  # diabetes\n",
    "    clean_nulls['BPHIGH4'].isin([1, 3]),    # highBP\n",
    "    clean_nulls['CVDASPRN'].isin([1, 2]),   # Aspirin\n",
    "    clean_nulls['_MICHD'].isin([1, 2]),     # heart disease\n",
    "    clean_nulls['_DRDXAR1'].isin([1, 2]),   # arthritis\n",
    "    clean_nulls['HAVARTH3'].isin([1, 2]),   # other form of arthritis\n",
    "    clean_nulls['DIFFWALK'].isin([1, 2]),   # difficulty walking\n",
    "    clean_nulls['TOLDHI2'].isin([1, 2]),    # told high cholesterol\n",
    "    clean_nulls['DRADVISE'].isin([1, 2]),   # told to reduce salt\n",
    "    clean_nulls['USEEQUIP'].isin([1, 2]),   # need medical equipment\n",
    "    clean_nulls['ARTHWGT'].isin([1, 2]),    # lose weight because arthritis\n",
    "    clean_nulls['CDASSIST'].isin([1, 2, 3, 4, 5]),   # do you need assistance because memory loss\n",
    "    clean_nulls['BPMEDS'].isin([1, 2]),     # are you taking meds for high blood pressure\n",
    "    clean_nulls['VICTRCT4'].isin([1, 2, 3]),   # do you have cataracts\n",
    "    clean_nulls['PNEUVAC3'].isin([1, 2])    # have you had a flu shot in the last 12 months\n",
    "]\n",
    "\n",
    "# Check if all conditions are met across all columns\n",
    "combined_condition = all(pd.DataFrame(conditions).all(axis=0))\n",
    "\n",
    "print(combined_condition) \n",
    "\n",
    "# Reset index of clean_columns DataFrame\n",
    "clean_nulls.reset_index(drop=True, inplace=True)\n",
    "\n",
    "# Apply combined condition to filter the DataFrame\n",
    "reduced_df = clean_nulls if combined_condition else pd.DataFrame()\n",
    "\n",
    "# Save the cleaned DataFrame to a new CSV file\n",
    "#reduced_df.to_csv('new_columns.csv', index=False)\n",
    "reduced_df\n",
    "\n"
   ]
  }
 ],
 "metadata": {
  "kernelspec": {
   "display_name": "myenv",
   "language": "python",
   "name": "python3"
  },
  "language_info": {
   "codemirror_mode": {
    "name": "ipython",
    "version": 3
   },
   "file_extension": ".py",
   "mimetype": "text/x-python",
   "name": "python",
   "nbconvert_exporter": "python",
   "pygments_lexer": "ipython3",
   "version": "3.9.18"
  },
  "orig_nbformat": 4
 },
 "nbformat": 4,
 "nbformat_minor": 2
}
